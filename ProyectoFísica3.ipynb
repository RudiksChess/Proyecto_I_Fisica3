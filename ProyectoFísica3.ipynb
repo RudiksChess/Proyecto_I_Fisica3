{
  "nbformat": 4,
  "nbformat_minor": 0,
  "metadata": {
    "colab": {
      "name": "ProyectoFísica3.ipynb",
      "provenance": [],
      "collapsed_sections": [],
      "include_colab_link": true
    },
    "kernelspec": {
      "name": "python3",
      "display_name": "Python 3"
    }
  },
  "cells": [
    {
      "cell_type": "markdown",
      "metadata": {
        "id": "view-in-github",
        "colab_type": "text"
      },
      "source": [
        "<a href=\"https://colab.research.google.com/github/RudiksChess/Proyecto_I_Fisica3/blob/master/ProyectoF%C3%ADsica3.ipynb\" target=\"_parent\"><img src=\"https://colab.research.google.com/assets/colab-badge.svg\" alt=\"Open In Colab\"/></a>"
      ]
    },
    {
      "cell_type": "markdown",
      "metadata": {
        "id": "WybuvWqeI8Dd",
        "colab_type": "text"
      },
      "source": [
        "**Proyecto de física 3**\n",
        "\n",
        "Integrantes: \n",
        "1. Rudik Roberto Rompich – Carné: 19857\n",
        "2. Mario Antonio Segura - Carné: 19283\n"
      ]
    },
    {
      "cell_type": "markdown",
      "metadata": {
        "id": "OkIfgqSkDw0D",
        "colab_type": "text"
      },
      "source": [
        "Según la deducción matemática:\n",
        "\n",
        "$$a_{y}=\\frac{F}{m}=\\frac{qE}{m}$$\n",
        "\n",
        "Para determinar $t$:\n",
        "$$x=v_{0}cos(\\theta)t$$\\\n",
        "$$t=\\frac{x}{v_{0}cos(\\theta)}$$\n",
        "Para determinar $y$: \n",
        "$$y=v_{0}sen(\\theta)t +\\frac{1}{2}a_{y}t^2$$\\\n",
        "$$y=v_{0}sen(\\theta)t +\\frac{qE}{2m}(\\frac{x}{v_{0}cos(\\theta)})^2 $$\n"
      ]
    },
    {
      "cell_type": "code",
      "metadata": {
        "id": "Z5PK8EcHU_uz",
        "colab_type": "code",
        "colab": {}
      },
      "source": [
        "#Paquetes utilizados\n",
        "import numpy as np \n",
        "import scipy \n",
        "import matplotlib.pyplot as plt\n",
        "import matplotlib.animation\n"
      ],
      "execution_count": null,
      "outputs": []
    },
    {
      "cell_type": "code",
      "metadata": {
        "id": "nRLtEOHMUJwT",
        "colab_type": "code",
        "colab": {}
      },
      "source": [
        "#Deducción matemática\n",
        "def tiempo(desplazamiento_x, velocidad, angulo):\n",
        "  \n",
        "  t= desplazamiento_x/(velocidad*np.cos(angulo))\n",
        "\n",
        "  return t\n",
        "\n",
        "def aceleracion(carga, campo_electrico, masa): \n",
        "\n",
        "  a = carga*campo_electrico/masa\n",
        "  \n",
        "  return a\n",
        "\n",
        "def posicion_y(desplazamiento_x, velocidad, angulo, campo_electrico, carga, masa):\n",
        "  \n",
        "  y= velocidad * np.sin(angulo) * tiempo(desplazamiento_x, velocidad, angulo)  +(0.5)*aceleracion(carga,campo_electrico,masa) *(tiempo(desplazamiento_x, velocidad, angulo))**2\n",
        "\n",
        "  return y"
      ],
      "execution_count": null,
      "outputs": []
    },
    {
      "cell_type": "code",
      "metadata": {
        "id": "v5J7-h1YIOCZ",
        "colab_type": "code",
        "colab": {
          "base_uri": "https://localhost:8080/",
          "height": 221
        },
        "outputId": "23595736-3757-4685-d522-6b98b5f482ed"
      },
      "source": [
        "datos_particulas=[[\"Partícula\",\"Masa (MeV)\",\"Carga(e)\"],\n",
        "                  [\"Electrón\",\"0.511\",\"-1\"],\n",
        "                  [\"Muón\",\"105.6\",\"-1\"],\n",
        "                  [\"Tau partícula\",\"1.777\",\"-1\"],\n",
        "                  [\"Neutrino tau\",\"18.2\",\"0\"],\n",
        "                  [\"Neutrino muónico\",\"0.19\",\"0\"],\n",
        "                  [\"Quark (up)\",\"3.1\",\"2/3\"],\n",
        "                  [\"Quark (down)\",\"6\",\"-1/3\"],\n",
        "                  [\"Quark(charm)\",\"1.25\",\"2/3\"],\n",
        "                  [\"Quark(strange)\",\"105\",\"-1/3\"],\n",
        "                  [\"Quark(top)\",\"4.25\",\"-1/3\"],\n",
        "                  ]\n",
        "\n",
        "print(\"Los índices de las partículas son los siguientes:\\n\")\n",
        "for particula in range(1,len(datos_particulas)):\n",
        "  print(f\"{particula}. {datos_particulas[particula][0]}\")\n",
        "      "
      ],
      "execution_count": null,
      "outputs": [
        {
          "output_type": "stream",
          "text": [
            "Los índices de las partículas son los siguientes:\n",
            "\n",
            "1. Electrón\n",
            "2. Muón\n",
            "3. Tau partícula\n",
            "4. Neutrino tau\n",
            "5. Neutrino muónico\n",
            "6. Quark (up)\n",
            "7. Quark (down)\n",
            "8. Quark(charm)\n",
            "9. Quark(strange)\n",
            "10. Quark(top)\n"
          ],
          "name": "stdout"
        }
      ]
    },
    {
      "cell_type": "markdown",
      "metadata": {
        "id": "Rz3E5b_NL4hc",
        "colab_type": "text"
      },
      "source": [
        "# **LO ÚNICO QUE EL USUARIO MANIPULA**\n",
        "POR FAVOR, INGRESAR LO SIGUIENTE: "
      ]
    },
    {
      "cell_type": "code",
      "metadata": {
        "id": "UaKA3ZoNL9Xc",
        "colab_type": "code",
        "colab": {
          "base_uri": "https://localhost:8080/",
          "height": 136
        },
        "outputId": "3c523c9f-2ea9-46fa-e8f4-c8457db190b6"
      },
      "source": [
        "print(\"Responda las siguientes preguntas:\\n\")\n",
        "particula = int(input(\"Partícula para analizar: \"))\n",
        "velocidad = float(input(\"Velocidad inicial (m/s): \"))\n",
        "angulo = float(input(\"Ángulo inicial (degrees): \"))\n",
        "desplazamiento_x = float(input(\"Desplazamiento en x (m):\"))\n",
        "campo_electrico = float(input(\"Campo eléctrico: \"))\n",
        "\n"
      ],
      "execution_count": null,
      "outputs": [
        {
          "output_type": "stream",
          "text": [
            "Responda las siguientes preguntas:\n",
            "\n",
            "Partícula para analizar: 1\n",
            "Velocidad inicial (m/s): 10\n",
            "Ángulo inicial (degrees): 42\n",
            "Desplazamiento en x (m):3\n",
            "Campo eléctrico: 3E4\n"
          ],
          "name": "stdout"
        }
      ]
    },
    {
      "cell_type": "code",
      "metadata": {
        "id": "_4XFjl4ppuhN",
        "colab_type": "code",
        "colab": {}
      },
      "source": [
        "#Conversiones de masa y carga del cuadro de índices \n",
        "\n",
        "particula_analizada = datos_particulas[particula]\n",
        "nombre_particula= particula_analizada[0]\n",
        "masa_analizada = float(particula_analizada[1])*1.78266269594644E-30\n",
        "carga_analizada = float(particula_analizada[2])*1.602176634e-19"
      ],
      "execution_count": null,
      "outputs": []
    },
    {
      "cell_type": "code",
      "metadata": {
        "id": "5ReRzZ8TWzlK",
        "colab_type": "code",
        "colab": {
          "base_uri": "https://localhost:8080/",
          "height": 295
        },
        "outputId": "8df6b519-1c36-4d89-b0c2-ec2d5f8d0b6c"
      },
      "source": [
        "#Aquí se ingresan los datos asignados por el usuario \n",
        "\n",
        "x = np.linspace(0, desplazamiento_x, 100000)\n",
        "y = posicion_y(x, velocidad, angulo*np.pi/180, campo_electrico, carga_analizada, masa_analizada)\n",
        "\n",
        "plt.figure()\n",
        "plt.plot(x,y, label=f\"{particula_analizada[0]}\" )\n",
        "\n",
        "plt.legend(loc='best')\n",
        "plt.title(f\"Desplazamiento del {particula_analizada[0]}\")\n",
        "plt.xlabel(\"Desplazamiento en X\")\n",
        "plt.ylabel(\"Desplazamiento en Y\")\n",
        "plt.grid()\n",
        "\n",
        "plt.show()"
      ],
      "execution_count": null,
      "outputs": [
        {
          "output_type": "display_data",
          "data": {
            "image/png": "[encoded data removed]",
            "text/plain": [
              "<Figure size 432x288 with 1 Axes>"
            ]
          },
          "metadata": {
            "tags": [],
            "needs_background": "light"
          }
        }
      ]
    }
  ]
}