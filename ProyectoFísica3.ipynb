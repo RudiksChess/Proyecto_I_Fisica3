{
  "nbformat": 4,
  "nbformat_minor": 0,
  "metadata": {
    "colab": {
      "name": "ProyectoFísica3.ipynb",
      "provenance": [],
      "include_colab_link": true
    },
    "kernelspec": {
      "name": "python3",
      "display_name": "Python 3"
    }
  },
  "cells": [
    {
      "cell_type": "markdown",
      "metadata": {
        "id": "view-in-github",
        "colab_type": "text"
      },
      "source": [
        "<a href=\"https://colab.research.google.com/github/RudiksChess/Proyecto_I_Fisica3/blob/master/ProyectoF%C3%ADsica3.ipynb\" target=\"_parent\"><img src=\"https://colab.research.google.com/assets/colab-badge.svg\" alt=\"Open In Colab\"/></a>"
      ]
    },
    {
      "cell_type": "markdown",
      "metadata": {
        "id": "WybuvWqeI8Dd",
        "colab_type": "text"
      },
      "source": [
        "**Proyecto de física 3**\n",
        "\n",
        "Integrantes: \n",
        "1. Rudik Roberto Rompich – Carné: 19857\n",
        "2. Mario Antonio Segura - Carné: 19283\n"
      ]
    },
    {
      "cell_type": "markdown",
      "metadata": {
        "id": "YCKfATppIKP2",
        "colab_type": "text"
      },
      "source": [
        "\n",
        "\n",
        "\n",
        "**Parámetros que el usuario debe ingresar: **\n",
        "\n",
        "1. Velocidad inicial de la partícula (magnitud y dirección)\n",
        "2. Intensidad de campo eléctrico (magnitud y sentido). El campo siempre debe ser\n",
        "vertical.\n",
        "3. Tipo de partícula. Debe dar la opción de poder escoger entre, como mínimo, 10 tipos\n",
        "de partículas: electrón, positrón, protón, neutrón, partícula alfa, núcleo de deuterio,\n",
        "muón, o las que usted prefiera.\n"
      ]
    },
    {
      "cell_type": "code",
      "metadata": {
        "id": "Z5PK8EcHU_uz",
        "colab_type": "code",
        "colab": {}
      },
      "source": [
        "import numpy as np \n",
        "import scipy \n",
        "import matplotlib.pyplot as plt\n",
        "from vpython import*"
      ],
      "execution_count": null,
      "outputs": []
    },
    {
      "cell_type": "code",
      "metadata": {
        "id": "v5J7-h1YIOCZ",
        "colab_type": "code",
        "colab": {}
      },
      "source": [
        "datos_particulas=[[\"Partícula\",\"Masa (MeV)\",\"Carga(e)\"],\n",
        "                  [\"Electrón\",\"0.511\",\"-1\"],\n",
        "                  [\"Muón\",\"105.6\",\"-1\"],\n",
        "                  [\"Tau partícula\",\"1.777\",\"-1\"],\n",
        "                  [\"Neutrino tau\",\"18.2\",\"0\"],\n",
        "                  [\"Neutrino muónico\",\"0.19\",\"0\"],\n",
        "                  [\"Quark (up)\",\"3.1\",\"2/3\"],\n",
        "                  [\"Quark (down)\",\"6\",\"-1/3\"],\n",
        "                  [\"Quark(charm)\",\"1.25\",\"2/3\"],\n",
        "                  [\"Quark(strange)\",\"105\",\"-1/3\"],\n",
        "                  [\"Quark(top)\",\"4.25\",\"-1/3\"],\n",
        "                  ]\n",
        "      "
      ],
      "execution_count": null,
      "outputs": []
    },
    {
      "cell_type": "code",
      "metadata": {
        "id": "nRLtEOHMUJwT",
        "colab_type": "code",
        "colab": {}
      },
      "source": [
        "t_inicial= 0 #segundos\n",
        "t_final = 1 #segundos\n",
        "tiempo = np.linspace(t_inicial,t_final,10000)\n",
        "\n",
        "\n",
        "def posicion_x(velocidad,angulo):\n",
        "  \n",
        "  x= velocidad*np.cos(angulo)*tiempo\n",
        "\n",
        "  return x\n",
        "\n",
        "def posicion_y(velocidad,angulo, campo_electrico, carga_particula, masa_particula):\n",
        "  aceleracion= (carga_particula*campo_electrico)/(masa) \n",
        "  \n",
        "  y= velocidad*np.sin(angulo)*tiempo+(aceleracion*(tiempo)**2)/(2*masa) \n",
        "\n",
        "  return y"
      ],
      "execution_count": null,
      "outputs": []
    }
  ]
}